{
  "nbformat": 4,
  "nbformat_minor": 0,
  "metadata": {
    "colab": {
      "name": "Линейная_алгебра_ДЗ_2.ipynb",
      "provenance": []
    },
    "kernelspec": {
      "name": "python3",
      "display_name": "Python 3"
    }
  },
  "cells": [
    {
      "cell_type": "markdown",
      "metadata": {
        "id": "27gYi2iN7idV"
      },
      "source": [
        "## 1. Определитель"
      ]
    },
    {
      "cell_type": "markdown",
      "metadata": {
        "id": "82hz-iKGz60C"
      },
      "source": [
        "$$ detA = \\begin{equation}\n",
        "   \\begin{vmatrix} \n",
        "   6 & 18 & 30  \\\\\n",
        "   1 & 1& 1  \\\\\n",
        "   -30 & -18 & -6 \\\\\n",
        "   \\end{vmatrix} \n",
        "\\end{equation} $$\n",
        "\n",
        "Заметим, что $(-30, -18, -6) + 36 \\cdot (1, 1, 1) = (6, 18, 30)$. Это означает, что первая строка является линейной комбинацией второй и третьей строк, откуда следует, что определитель равен нулю.\n",
        "\n",
        "**Ответ**: $detA = 0$"
      ]
    },
    {
      "cell_type": "markdown",
      "metadata": {
        "id": "WrUpg3-V7k7t"
      },
      "source": [
        "## 2. Определитель"
      ]
    },
    {
      "cell_type": "markdown",
      "metadata": {
        "id": "dpmBxTZr08lR"
      },
      "source": [
        "$$ detA = \\begin{equation}\n",
        "   \\begin{vmatrix} \n",
        "   3& 3 & 5  \\\\\n",
        "   -2 & -5 & -3  \\\\\n",
        "   -1 & -4 & -4 \\\\\n",
        "   \\end{vmatrix} \n",
        " = \n",
        "   \\begin{vmatrix} \n",
        "   3& 3 & 5  \\\\\n",
        "   2 & 5 & 3  \\\\\n",
        "   1 & 4 & 4 \\\\\n",
        "   \\end{vmatrix} =    \\begin{vmatrix} \n",
        "   2& -1 & 1  \\\\\n",
        "   1 & 1 & -1 \\\\\n",
        "   1 & 4 & 4 \\\\\n",
        "   \\end{vmatrix} = \\begin{vmatrix} \n",
        "   3 & 0 & 0  \\\\\n",
        "   1 & 1 & -1 \\\\\n",
        "   0 & 3 & 5 \\\\\n",
        "   \\end{vmatrix} = \\begin{vmatrix} \n",
        "   3 & 0 & 0  \\\\\n",
        "   1 & \\frac{8}{5} & 0 \\\\\n",
        "   0 & 3 & 5 \\\\\n",
        "   \\end{vmatrix} = 3 \\cdot \\frac{8}{5} \\cdot 5 = 24 \n",
        "\\end{equation} $$\n",
        "\n",
        "Здесь мы воспользовались тем свойством, что определитель треугольной матрицы есть произведение элементов, стоящих на главной диагонали. \n",
        "\n",
        "**Ответ**: $detA = 24$"
      ]
    },
    {
      "cell_type": "markdown",
      "metadata": {
        "id": "puiBpdny7X3P"
      },
      "source": [
        "## 3. Обратная матрица"
      ]
    },
    {
      "cell_type": "markdown",
      "metadata": {
        "id": "OZA6Pk7x6Ib1"
      },
      "source": [
        "$$\\left(\\begin{array}{ccc|ccc}  \n",
        " 3 & 4 & 5 &  1 & 0 &0\\\\  \n",
        " -2 & 0 & 2 & 0 & 1 &0 \\\\\n",
        " -1 & 0 & 2 & 0 & 0 & 1\n",
        "\\end{array}\\right) = \\left(\\begin{array}{ccc|ccc}  \n",
        " 3 & 4 & 5 &  1 & 0 &0\\\\  \n",
        " -2 & 0 & 2 & 0 & 1 &0 \\\\\n",
        " 1 & 0 & 0 & 0 & -1 & 1\n",
        "\\end{array}\\right) = \\left(\\begin{array}{ccc|ccc}  \n",
        " 3 & 4 & 5 &  1 & 0 &0\\\\  \n",
        " 0 & 0 & 2 & 0 & -1 & 2 \\\\\n",
        " 1 & 0 & 0 & 0 & -1 & 1\n",
        "\\end{array}\\right) = \\left(\\begin{array}{ccc|ccc}  \n",
        " 3 & 4 & 5 &  1 & 0 &0\\\\  \n",
        " 0 & 0 & 1 & 0 & -\\frac{1}{2} & 1 \\\\\n",
        " 1 & 0 & 0 & 0 & -1 & 1\n",
        "\\end{array}\\right)  = \\left(\\begin{array}{ccc|ccc}  \n",
        " 0 & 4 & 5 &  1 & 3 & -3\\\\  \n",
        " 0 & 0 & 1 & 0 & -\\frac{1}{2} & 1 \\\\\n",
        " 1 & 0 & 0 & 0 & -1 & 1\n",
        "\\end{array}\\right) = \\left(\\begin{array}{ccc|ccc}  \n",
        " 0 & 4 & 0 &  1 & \\frac{11}{2} & -8\\\\  \n",
        " 0 & 0 & 1 & 0 & -\\frac{1}{2} & 1 \\\\\n",
        " 1 & 0 & 0 & 0 & -1 & 1\n",
        "\\end{array}\\right) = \\left(\\begin{array}{ccc|ccc}  \n",
        " 0 & 1 & 0 &  \\frac{1}{4} & \\frac{11}{8} & -2\\\\  \n",
        " 0 & 0 & 1 & 0 & -\\frac{1}{2} & 1 \\\\\n",
        " 1 & 0 & 0 & 0 & -1 & 1\n",
        "\\end{array}\\right) = \\left(\\begin{array}{ccc|ccc}  \n",
        " 1 & 0 & 0 &  0 & -1 & 1\\\\  \n",
        " 0 & 1 & 0 & \\frac{1}{4} & \\frac{11}{8} & -2 \\\\\n",
        " 0 & 0 & 1 & 0 & -\\frac{1}{2} & 1\n",
        "\\end{array}\\right) \n",
        "$$\n",
        "\n",
        "**Ответ**: $A^{-1} = \\left(\\begin{array}{ccc}  \n",
        " 0 & -1 & 1\\\\  \n",
        "\\frac{1}{4} & \\frac{11}{8} & -2 \\\\\n",
        "0 & -\\frac{1}{2} & 1\n",
        "\\end{array}\\right) $"
      ]
    },
    {
      "cell_type": "markdown",
      "metadata": {
        "id": "lM8OfwOC7ey3"
      },
      "source": [
        "## 4. СЛАУ"
      ]
    },
    {
      "cell_type": "markdown",
      "metadata": {
        "id": "rrdbaa7ivujB"
      },
      "source": [
        "\n",
        "\n",
        "$$\\left(\\begin{array}{cccc|c}  \n",
        " 1 & 1 & -3 &  1 & 2\\\\  \n",
        " -1 & 3 & -4 & 1 & 0 \\\\\n",
        " 1 & 0 & 2 & -1 & 1 \\\\\n",
        " 1 & 2 & 0 & 0 & 3\n",
        "\\end{array}\\right) =  \\left(\\begin{array}{cccc|c}  \n",
        " 1 & 1 & -3 &  1 & 2\\\\  \n",
        " 0 & 4 & -7 & 2 & 2 \\\\\n",
        " 0 & -1 & 5 & -2 & -1 \\\\\n",
        " 0 & 1 & 3 & -1 & 1\n",
        "\\end{array}\\right) = \\left(\\begin{array}{cccc|c}  \n",
        " 1 & 1 & -3 &  1 & 2\\\\  \n",
        " 0 & 1 & -\\frac{7}{4} & \\frac{1}{2} & \\frac{1}{2} \\\\\n",
        " 0 & -1 & 5 & -2 & -1 \\\\\n",
        " 0 & 1 & 3 & -1 & 1\n",
        "\\end{array}\\right) = \\left(\\begin{array}{cccc|c}  \n",
        " 1 & 1 & -3 &  1 & 2\\\\  \n",
        " 0 & 1 & -\\frac{7}{4} & \\frac{1}{2} & \\frac{1}{2} \\\\\n",
        " 0 & 0 & \\frac{13}{4} & -\\frac{3}{2} & -\\frac{1}{2} \\\\\n",
        " 0 & 0 & \\frac{19}{4} & -\\frac{3}{2} & \\frac{1}{2}\n",
        "\\end{array}\\right) = \\left(\\begin{array}{cccc|c}  \n",
        " 1 & 1 & -3 &  1 & 2\\\\  \n",
        " 0 & 1 & -\\frac{7}{4} & \\frac{1}{2} & \\frac{1}{2} \\\\\n",
        " 0 & 0 & 1 & -\\frac{6}{13} & -\\frac{2}{13} \\\\\n",
        " 0 & 0 & \\frac{19}{4} & -\\frac{3}{2} & \\frac{1}{2}\n",
        "\\end{array}\\right) = \\left(\\begin{array}{cccc|c}  \n",
        " 1 & 1 & -3 &  1 & 2\\\\  \n",
        " 0 & 1 & -\\frac{7}{4} & \\frac{1}{2} & \\frac{1}{2} \\\\\n",
        " 0 & 0 & 1 & -\\frac{6}{13} & -\\frac{2}{13} \\\\\n",
        " 0 & 0 & 0 & \\frac{9}{13} & \\frac{16}{13}\n",
        "\\end{array}\\right) = \\left(\\begin{array}{cccc|c}  \n",
        " 1 & 1 & -3 &  1 & 2\\\\  \n",
        " 0 & 1 & -\\frac{7}{4} & \\frac{1}{2} & \\frac{1}{2} \\\\\n",
        " 0 & 0 & 1 & -\\frac{6}{13} & -\\frac{2}{13} \\\\\n",
        " 0 & 0 & 0 & 1 & \\frac{16}{9}\n",
        "\\end{array}\\right) = \\left(\\begin{array}{cccc|c}  \n",
        " 1 & 1 & -3 &  0 & \\frac{2}{9}\\\\  \n",
        " 0 & 1 & -\\frac{7}{4} & 0 & -\\frac{7}{18} \\\\\n",
        " 0 & 0 & 1 & 0 & \\frac{2}{3} \\\\\n",
        " 0 & 0 & 0 & 1 & \\frac{16}{9}\n",
        "\\end{array}\\right) = \\left(\\begin{array}{cccc|c}  \n",
        " 1 & 1 & 0 &  0 & \\frac{20}{9}\\\\  \n",
        " 0 & 1 & 0  & 0 & \\frac{7}{9} \\\\\n",
        " 0 & 0 & 1 & 0 & \\frac{2}{3} \\\\\n",
        " 0 & 0 & 0 & 1 & \\frac{16}{9}\n",
        "\\end{array}\\right) = \\left(\\begin{array}{cccc|c}  \n",
        " 1 & 0 & 0 &  0 & \\frac{13}{9}\\\\  \n",
        " 0 & 1 & 0  & 0 & \\frac{7}{9} \\\\\n",
        " 0 & 0 & 1 & 0 & \\frac{2}{3} \\\\\n",
        " 0 & 0 & 0 & 1 & \\frac{16}{9}\n",
        "\\end{array}\\right)   $$\n",
        "\n",
        "Получили $ x = \\left(\\begin{array}{c}  \n",
        "\\frac{13}{9} \\\\\n",
        "\\frac{7}{9} \\\\\n",
        "\\frac{2}{3} \\\\\n",
        "\\frac{16}{9}\n",
        "\\end{array}\\right)  $\n",
        "\n",
        "**Ответ**: $ x = \\left(\\begin{array}{c}  \n",
        "\\frac{13}{9} \\\\\n",
        "\\frac{7}{9} \\\\\n",
        "\\frac{2}{3} \\\\\n",
        "\\frac{16}{9}\n",
        "\\end{array}\\right)  $"
      ]
    },
    {
      "cell_type": "markdown",
      "metadata": {
        "id": "ggqvI1ztyZYm"
      },
      "source": [
        "## 5. Обратная матрица (реализация)"
      ]
    },
    {
      "cell_type": "code",
      "metadata": {
        "id": "prEjnAhH0yTc"
      },
      "source": [
        "from copy import deepcopy\n",
        "\n",
        "\n",
        "def inverse_matrix(array):\n",
        "    augmented = deepcopy(array)\n",
        "    assert len(array) == len(array[0])\n",
        "    n = len(array)\n",
        "    for i in range(n):\n",
        "        for j in range(n):\n",
        "            if i == j:\n",
        "                augmented[i][j] = 1\n",
        "            else:\n",
        "                augmented[i][j] = 0\n",
        "\n",
        "    for i in range(n):\n",
        "        if [0] * n in array:\n",
        "            return \"Singular Matrix\"\n",
        "        if array[i][i] == 0.0:\n",
        "            array[i], array[i + 1] = array[i + 1], array[i]\n",
        "            augmented[i], augmented[i + 1] = augmented[i + 1], augmented[i]\n",
        "        for j in range(n):\n",
        "            if i != j:\n",
        "                ratio = array[j][i] / array[i][i]\n",
        "                for k in range(n):\n",
        "                    augmented[j][k] = augmented[j][k] - ratio * augmented[i][k]\n",
        "                    array[j][k] = array[j][k] - ratio * array[i][k]\n",
        "\n",
        "\n",
        "    for i in range(n):\n",
        "        divisor = array[i][i]\n",
        "        for j in range(n):\n",
        "            augmented[i][j] = round(augmented[i][j] / divisor, 4)\n",
        "    return f\"Inverse of A is: {augmented}\""
      ],
      "execution_count": 19,
      "outputs": []
    },
    {
      "cell_type": "code",
      "metadata": {
        "colab": {
          "base_uri": "https://localhost:8080/"
        },
        "id": "plDbbFFv7siO",
        "outputId": "e4fe4e97-1ed6-4232-e0fb-6f0bbd8de279"
      },
      "source": [
        "arr = [[3, 4, 5], [-2, 0, 2], [-1, 0, 2]]\n",
        "inversed = inverse_matrix(arr)\n",
        "print(inversed)\n"
      ],
      "execution_count": 22,
      "outputs": [
        {
          "output_type": "stream",
          "text": [
            "Inverse of A is: [[0.0, -1.0, 1.0], [0.25, 1.375, -2.0], [0.0, -0.5, 1.0]]\n"
          ],
          "name": "stdout"
        }
      ]
    }
  ]
}